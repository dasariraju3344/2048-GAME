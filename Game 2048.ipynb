{
 "cells": [
  {
   "cell_type": "markdown",
   "id": "b406955b",
   "metadata": {},
   "source": [
    "# GAME 2048"
   ]
  },
  {
   "cell_type": "code",
   "execution_count": 31,
   "id": "c8c6383f",
   "metadata": {},
   "outputs": [],
   "source": [
    "import random                     # its a random library to add 2's in matrix\n",
    "\n",
    "def start_game():\n",
    "    mat = []                      # mat = Matrix\n",
    "    for i in range(4):\n",
    "        mat.append([0]*4)\n",
    "    return mat\n",
    "\n",
    "def add_new_2_to_matrix(mat):\n",
    "    \n",
    "    r = random.randint(0,3)       # r = row\n",
    "    c = random.randint(0,3)       # c = coloum\n",
    "    while (mat[r][c] != 0):\n",
    "        r = random.randint(0,3)\n",
    "        c = random.randint(0,3)\n",
    "    mat[r][c] = 2\n",
    "    \n",
    "def reverseMatrix(mat):\n",
    "    new_mat = []\n",
    "    for i in range(4):\n",
    "        new_mat.append([])\n",
    "        for j in range(4):\n",
    "            new_mat[i].append(mat[i][4-j-1])    #new_mat[i][j] = mat[i][4-j-1]\n",
    "            \n",
    "    return new_mat\n",
    "\n",
    "def transpose(mat):\n",
    "    new_mat = []\n",
    "    for i in range(4):\n",
    "        new_mat.append([])\n",
    "        for j in range(4):\n",
    "            new_mat[i].append(mat[j][i])    #mat[j][i] = newMat[i][j]\n",
    "            \n",
    "    return new_mat\n",
    "            \n",
    "\n",
    "def merge(mat):\n",
    "    changed = False\n",
    "    for i in range(4):\n",
    "        for j in range(3):\n",
    "            if mat[i][j] == mat[i][j+1] and mat[i][j] != 0:\n",
    "                mat[i][j] = mat[i][j] * 2\n",
    "                mat[i][j+1] = 0\n",
    "                changed = True\n",
    "    return mat,changed\n",
    "\n",
    "    \n",
    "def compressing_matrix(mat):      #This function is to compress the matrix\n",
    "    # Similar numbers will not merge here\n",
    "    changed = False\n",
    "    new_mat = []\n",
    "    for i in range(4):\n",
    "        new_mat.append([0]*4)\n",
    "        \n",
    "    for i in range(4):\n",
    "        pos = 0                   #pos = Position in newMatrix\n",
    "        for j in range(4):\n",
    "            if mat[i][j] != 0:\n",
    "                new_mat[i][pos] = mat[i][j]\n",
    "                if (j != pos):\n",
    "                    changed = True\n",
    "                pos = pos + 1            \n",
    "    return new_mat,changed\n",
    "\n",
    "\n",
    "def move_up(grid):\n",
    "    transposed_grid = transpose(grid)\n",
    "    new_grid,change1 = compressing_matrix(transposed_grid)\n",
    "    new_grid,change2 = merge(new_grid)\n",
    "    changed = change1 or change2\n",
    "    new_grid = compressing_matrix(new_grid)\n",
    "    final_grid = transpose(new_grid)\n",
    "    return final_grid,changed\n",
    "    \n",
    "\n",
    "def move_down(grid):\n",
    "    transposed_grid = transpose(grid)\n",
    "    reversed_grid = reverseMatrix(transposed_grid)\n",
    "    new_grid,change1 = compressing_matrix(reversed_grid)\n",
    "    new_grid,change2 = merge(new_grid)\n",
    "    changed = change1 or change2\n",
    "    new_grid = compressing_matrix(new_grid)\n",
    "    final_reversed_grid = reverseMatrix(new_grid)\n",
    "    final_grid = transpose(final_reversed_grid)\n",
    "    return final_grid,changed\n",
    "\n",
    "\n",
    "def move_right(grid):\n",
    "    reversed_grid = reverseMatrix(grid)\n",
    "    new_grid,change1 = compressing_matrix(reversed_grid)\n",
    "    new_grid,change2 = merge(new_grid)\n",
    "    changed = change1 or change2\n",
    "    new_grid = compressing_matrix(new_grid)\n",
    "    final_grid = reverseMatrix(new_grid)\n",
    "    return final_grid,changed\n",
    "    \n",
    "\n",
    "def move_left(grid):\n",
    "    new_grid,change1 = compressing_matrix(grid)\n",
    "    new_grid,change2 = merge(new_grid)\n",
    "    changed = change1 or change2\n",
    "    new_grid = compressing_matrix(new_grid)\n",
    "    return new_grid,changed\n",
    "                \n",
    "    \n",
    "    \n",
    "def curr_state_of_game(mat):\n",
    "    # Won the Game\n",
    "    for i in range(4):\n",
    "        for j in range(4):\n",
    "            if (mat[i][j] == 2048):\n",
    "                return \" WON \"\n",
    "            \n",
    "    # Game is not over yet\n",
    "    for i in range(4):\n",
    "        for j in range(4):\n",
    "            if (mat[i][j] == 0):\n",
    "                return \" GAME NOT OVER \"\n",
    "    \n",
    "    # This is for every row and coloum except last row and coloum\n",
    "    for i in range(3):           # range is 3 because matrix will be out of bound for last ith row\n",
    "        for j in range(3):       # range is 3 because matrix will be out of bound for last jth coloum\n",
    "            if (mat[i][j] == mat[i][j+1] or mat[i][j] == mat[i+1][j]):\n",
    "                return \" GAME NOT OVER \"\n",
    "    \n",
    "    #Checking for last row\n",
    "    for j in range(3):           # Here i or row is fixed\n",
    "        if mat[3][j] == mat[3][j+1]:\n",
    "            return \" GAME NOT OVER \"\n",
    "        \n",
    "    #Checking for last coloum\n",
    "    for i in range(3):           # Here j or coloum is fixed\n",
    "        if mat[i][3] == mat[i+1][3]:\n",
    "            return \" GAME NOT OVER \"\n",
    "        \n",
    "    # Lost the Game\n",
    "    return \" GAME IS LOST \"\n",
    "    "
   ]
  },
  {
   "cell_type": "code",
   "execution_count": 32,
   "id": "6ffeb2c2",
   "metadata": {},
   "outputs": [
    {
     "name": "stdout",
     "output_type": "stream",
     "text": [
      "[[0, 0, 0, 0], [0, 0, 0, 0], [0, 0, 0, 0], [0, 0, 0, 0]]\n"
     ]
    }
   ],
   "source": [
    "mat = start_game()\n",
    "print(mat)"
   ]
  },
  {
   "cell_type": "code",
   "execution_count": 33,
   "id": "2741f20c",
   "metadata": {},
   "outputs": [
    {
     "name": "stdout",
     "output_type": "stream",
     "text": [
      "[[0, 0, 0, 0], [0, 0, 0, 0], [0, 0, 0, 0], [0, 0, 2, 0]]\n"
     ]
    }
   ],
   "source": [
    "add_new_2_to_matrix(mat)\n",
    "print(mat)"
   ]
  },
  {
   "cell_type": "code",
   "execution_count": 34,
   "id": "4a05d4e7",
   "metadata": {},
   "outputs": [
    {
     "name": "stdout",
     "output_type": "stream",
     "text": [
      "[[0, 0, 0, 0], [0, 2, 0, 0], [0, 0, 0, 0], [0, 0, 2, 0]]\n"
     ]
    }
   ],
   "source": [
    "add_new_2_to_matrix(mat)\n",
    "print(mat)"
   ]
  },
  {
   "cell_type": "code",
   "execution_count": 35,
   "id": "afbcbcf1",
   "metadata": {},
   "outputs": [
    {
     "name": "stdout",
     "output_type": "stream",
     "text": [
      "[[0, 2, 2, 0], [0, 0, 0, 0], [0, 0, 0, 0], [0, 0, 0, 0]]\n"
     ]
    }
   ],
   "source": [
    "mat = move_up(mat)\n",
    "print(mat)"
   ]
  },
  {
   "cell_type": "code",
   "execution_count": 36,
   "id": "6186d9d3",
   "metadata": {},
   "outputs": [
    {
     "name": "stdout",
     "output_type": "stream",
     "text": [
      "[[0, 0, 0, 0], [0, 0, 0, 0], [0, 0, 0, 0], [0, 2, 2, 0]]\n"
     ]
    }
   ],
   "source": [
    "mat = move_down(mat)\n",
    "print(mat)"
   ]
  },
  {
   "cell_type": "code",
   "execution_count": 37,
   "id": "056dc8eb",
   "metadata": {},
   "outputs": [
    {
     "name": "stdout",
     "output_type": "stream",
     "text": [
      "[[0, 0, 0, 0], [0, 0, 0, 0], [0, 0, 2, 0], [0, 2, 2, 0]]\n"
     ]
    }
   ],
   "source": [
    "add_new_2_to_matrix(mat)\n",
    "print(mat)"
   ]
  },
  {
   "cell_type": "code",
   "execution_count": 38,
   "id": "8c4962c2",
   "metadata": {},
   "outputs": [
    {
     "name": "stdout",
     "output_type": "stream",
     "text": [
      "[[0, 0, 0, 0], [0, 0, 0, 0], [0, 0, 0, 2], [0, 0, 0, 4]]\n"
     ]
    }
   ],
   "source": [
    "mat = move_right(mat)\n",
    "print(mat)"
   ]
  },
  {
   "cell_type": "code",
   "execution_count": 39,
   "id": "7036f0ec",
   "metadata": {},
   "outputs": [
    {
     "name": "stdout",
     "output_type": "stream",
     "text": [
      "[[0, 0, 0, 0], [0, 0, 0, 2], [0, 0, 0, 2], [0, 0, 0, 4]]\n"
     ]
    }
   ],
   "source": [
    "add_new_2_to_matrix(mat)\n",
    "print(mat)"
   ]
  },
  {
   "cell_type": "code",
   "execution_count": 40,
   "id": "60be442d",
   "metadata": {},
   "outputs": [
    {
     "name": "stdout",
     "output_type": "stream",
     "text": [
      "[[0, 0, 0, 0], [2, 0, 0, 0], [2, 0, 0, 0], [4, 0, 0, 0]]\n"
     ]
    }
   ],
   "source": [
    "mat = move_left(mat)\n",
    "print(mat)"
   ]
  },
  {
   "cell_type": "code",
   "execution_count": 41,
   "id": "5d0b31c3",
   "metadata": {},
   "outputs": [
    {
     "name": "stdout",
     "output_type": "stream",
     "text": [
      "[[0, 0, 0, 0], [0, 0, 0, 0], [4, 0, 0, 0], [4, 0, 0, 0]]\n"
     ]
    }
   ],
   "source": [
    "mat = move_down(mat)\n",
    "print(mat)"
   ]
  },
  {
   "cell_type": "code",
   "execution_count": 42,
   "id": "7d4b9feb",
   "metadata": {},
   "outputs": [
    {
     "name": "stdout",
     "output_type": "stream",
     "text": [
      "[[0, 0, 0, 0], [0, 0, 0, 0], [0, 0, 0, 0], [8, 0, 0, 0]]\n"
     ]
    }
   ],
   "source": [
    "mat = move_down(mat)\n",
    "print(mat)"
   ]
  },
  {
   "cell_type": "code",
   "execution_count": null,
   "id": "eec3e5cc",
   "metadata": {},
   "outputs": [],
   "source": []
  }
 ],
 "metadata": {
  "kernelspec": {
   "display_name": "Python 3 (ipykernel)",
   "language": "python",
   "name": "python3"
  },
  "language_info": {
   "codemirror_mode": {
    "name": "ipython",
    "version": 3
   },
   "file_extension": ".py",
   "mimetype": "text/x-python",
   "name": "python",
   "nbconvert_exporter": "python",
   "pygments_lexer": "ipython3",
   "version": "3.9.12"
  }
 },
 "nbformat": 4,
 "nbformat_minor": 5
}
